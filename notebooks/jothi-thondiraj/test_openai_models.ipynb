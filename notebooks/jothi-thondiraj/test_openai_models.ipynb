{
 "cells": [
  {
   "cell_type": "code",
   "execution_count": 1,
   "metadata": {},
   "outputs": [],
   "source": [
    "# pip install openai"
   ]
  },
  {
   "cell_type": "code",
   "execution_count": 16,
   "metadata": {},
   "outputs": [],
   "source": [
    "import os\n",
    "import openai\n",
    "from openai import OpenAI\n"
   ]
  },
  {
   "cell_type": "code",
   "execution_count": 18,
   "metadata": {},
   "outputs": [],
   "source": [
    "from dotenv import load_dotenv, dotenv_values \n",
    "# loading variables from .env file\n",
    "load_dotenv()\n",
    "client = OpenAI(api_key=os.environ.get(\"API_KEY_AIrecipe\"))"
   ]
  },
  {
   "cell_type": "code",
   "execution_count": 19,
   "metadata": {},
   "outputs": [],
   "source": [
    "completion = client.chat.completions.create(\n",
    "    model=\"gpt-4o\",\n",
    "    messages=[\n",
    "        {\"role\": \"developer\", \"content\": \"You are a helpful assistant.\"},\n",
    "        {\n",
    "            \"role\": \"user\",\n",
    "            \"content\": \"Write a recipe based on the given ingredients: onions, chicken, tomatoes, Indian spices and rice.\"\n",
    "        }\n",
    "    ]\n",
    ")"
   ]
  },
  {
   "cell_type": "code",
   "execution_count": 22,
   "metadata": {},
   "outputs": [],
   "source": [
    "response = completion.choices[0].message"
   ]
  },
  {
   "cell_type": "code",
   "execution_count": 24,
   "metadata": {},
   "outputs": [
    {
     "name": "stdout",
     "output_type": "stream",
     "text": [
      "Certainly! Here's a recipe for a delicious Chicken Biryani using the ingredients you've listed:\n",
      "\n",
      "### Chicken Biryani\n",
      "\n",
      "#### Ingredients:\n",
      "- 2 cups basmati rice\n",
      "- 500g chicken, cut into pieces\n",
      "- 2 large onions, thinly sliced\n",
      "- 2 tomatoes, chopped\n",
      "- 3 tablespoons oil or ghee\n",
      "- 1 teaspoon cumin seeds\n",
      "- 2-3 cloves\n",
      "- 2-3 green cardamom pods\n",
      "- 1 bay leaf\n",
      "- 1-inch piece of cinnamon stick\n",
      "- 1 teaspoon ginger-garlic paste\n",
      "- 1/2 teaspoon turmeric powder\n",
      "- 1 teaspoon red chili powder\n",
      "- 1 teaspoon garam masala\n",
      "- 1/2 cup plain yogurt\n",
      "- Fresh coriander leaves, chopped (for garnish)\n",
      "- Fresh mint leaves, chopped (for garnish)\n",
      "- Salt to taste\n",
      "- Water\n",
      "\n",
      "#### Instructions:\n",
      "\n",
      "1. **Prepare the Rice**\n",
      "   - Rinse the basmati rice under cold water until the water runs clear. Soak the rice in water for about 30 minutes. Drain and set aside.\n",
      "  \n",
      "2. **Cook the Chicken**\n",
      "   - Heat 2 tablespoons of oil or ghee in a large pan over medium heat. Add the cumin seeds, cloves, cardamom pods, bay leaf, and cinnamon stick. Sauté for a minute until fragrant.\n",
      "   - Add the sliced onions and sauté until golden brown.\n",
      "   - Add the ginger-garlic paste and cook for another minute.\n",
      "   - Stir in the tomatoes, turmeric powder, red chili powder, and some salt. Cook until the tomatoes become soft and the oil starts to separate.\n",
      "   - Add the chicken pieces, mix well, and cook until the chicken is no longer pink.\n",
      "   - Add the yogurt and garam masala. Stir well to coat the chicken. Cook for about 5-7 minutes on medium heat until the chicken is cooked through. Remove from heat and set aside.\n",
      "\n",
      "3. **Cook the Rice**\n",
      "   - In a large pot, bring water to a boil and add salt to taste.\n",
      "   - Add the soaked and drained rice to the boiling water. Cook until the rice is 70% cooked (the rice should be firm and slightly undercooked).\n",
      "   - Drain the rice and set aside.\n",
      "\n",
      "4. **Layering and Cooking**\n",
      "   - In a deep, heavy-bottomed pan, spread half of the cooked chicken mixture at the bottom.\n",
      "   - Layer half of the partially cooked rice on top of the chicken.\n",
      "   - Sprinkle half of the chopped coriander and mint leaves over the rice.\n",
      "   - Repeat with the remaining chicken and rice, and top with the remaining coriander and mint leaves.\n",
      "   - Drizzle the remaining tablespoon of oil or ghee over the top.\n",
      "\n",
      "5. **Dum Cooking**\n",
      "   - Cover the pan with a tight-fitting lid. If the lid isn't tight, seal the edges with a dough made from flour and water to trap the steam.\n",
      "   - Cook on a very low heat for about 20-25 minutes. This allows the flavors to meld together and the rice to finish cooking with the steam.\n",
      "\n",
      "6. **Serve**\n",
      "   - Once done, gently fluff the biryani with a fork, being careful not to break the rice grains.\n",
      "   - Serve hot with raita or a fresh salad.\n",
      "\n",
      "Enjoy your flavorful Chicken Biryani!\n"
     ]
    }
   ],
   "source": [
    "print(response.content)"
   ]
  }
 ],
 "metadata": {
  "kernelspec": {
   "display_name": "Azure_end_to_end_project",
   "language": "python",
   "name": "python3"
  },
  "language_info": {
   "codemirror_mode": {
    "name": "ipython",
    "version": 3
   },
   "file_extension": ".py",
   "mimetype": "text/x-python",
   "name": "python",
   "nbconvert_exporter": "python",
   "pygments_lexer": "ipython3",
   "version": "3.12.2"
  }
 },
 "nbformat": 4,
 "nbformat_minor": 2
}
